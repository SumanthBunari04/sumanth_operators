{
 "cells": [
  {
   "cell_type": "markdown",
   "id": "0ea45fa5-4eef-4481-96f7-bf8b36d1a433",
   "metadata": {},
   "source": [
    "# Python Operators"
   ]
  },
  {
   "cell_type": "markdown",
   "id": "a406450f-5620-4697-9076-44df562a6336",
   "metadata": {},
   "source": [
    "## Arithemetic Operator"
   ]
  },
  {
   "cell_type": "markdown",
   "id": "665e5810-9d69-402f-8b3d-37f55a6960aa",
   "metadata": {},
   "source": [
    "Addition(+), Subtraction(-), Division(/), Multiplication(*), Modulo(%), Exponentional(**), Floor Division(//)"
   ]
  },
  {
   "cell_type": "code",
   "execution_count": 5,
   "id": "a419fd89-bddb-4d37-8ad2-a67824deaef6",
   "metadata": {},
   "outputs": [
    {
     "name": "stdout",
     "output_type": "stream",
     "text": [
      "89\n"
     ]
    }
   ],
   "source": [
    "a = (50 + 39) #add\n",
    "print(a)"
   ]
  },
  {
   "cell_type": "code",
   "execution_count": 6,
   "id": "6093c08c-0269-430b-946a-3a0cb57b4be5",
   "metadata": {},
   "outputs": [
    {
     "name": "stdout",
     "output_type": "stream",
     "text": [
      "156.2\n"
     ]
    }
   ],
   "source": [
    "b = (89.2  + 67) #sub\n",
    "print(b)"
   ]
  },
  {
   "cell_type": "code",
   "execution_count": 7,
   "id": "2210d258-7cb8-4928-8f38-39bf3a6eb537",
   "metadata": {},
   "outputs": [
    {
     "name": "stdout",
     "output_type": "stream",
     "text": [
      "2.0\n"
     ]
    }
   ],
   "source": [
    "c = (42 / 21) #div\n",
    "print(c)"
   ]
  },
  {
   "cell_type": "code",
   "execution_count": 8,
   "id": "09048f4d-7268-47c5-bdf3-8d8e5ea5f928",
   "metadata": {},
   "outputs": [
    {
     "name": "stdout",
     "output_type": "stream",
     "text": [
      "464\n"
     ]
    }
   ],
   "source": [
    "d = (29 * 16) #mul\n",
    "print(d)"
   ]
  },
  {
   "cell_type": "code",
   "execution_count": 10,
   "id": "a40e9bda-edd7-4e47-86f9-58fdf8441686",
   "metadata": {},
   "outputs": [
    {
     "name": "stdout",
     "output_type": "stream",
     "text": [
      "1.899999999999999\n"
     ]
    }
   ],
   "source": [
    "e = (12.7 % 3.6) #modulo\n",
    "print(e)"
   ]
  },
  {
   "cell_type": "code",
   "execution_count": 11,
   "id": "31669f2a-f1a2-4ff8-a21f-6197cf794166",
   "metadata": {},
   "outputs": [
    {
     "name": "stdout",
     "output_type": "stream",
     "text": [
      "1024\n"
     ]
    }
   ],
   "source": [
    "f = (2 ** 10) #exp\n",
    "print(f)"
   ]
  },
  {
   "cell_type": "code",
   "execution_count": 12,
   "id": "03be1ac7-e1b1-476c-8d66-c5de7aceefa3",
   "metadata": {},
   "outputs": [
    {
     "name": "stdout",
     "output_type": "stream",
     "text": [
      "2\n"
     ]
    }
   ],
   "source": [
    "g = (10 // 5) #fd\n",
    "print(g)"
   ]
  },
  {
   "cell_type": "markdown",
   "id": "71a782a1-e391-4465-a7c7-c9155d70c2a6",
   "metadata": {},
   "source": [
    "## Assignment Operators"
   ]
  },
  {
   "cell_type": "markdown",
   "id": "aeb421b1-1327-4613-aeed-e0c0bcbd44e2",
   "metadata": {},
   "source": [
    "Assign a value(=), Addition Assignment(+=), Subtraction Assignment(-=), Division Assignment(/=), Multiplication Assignment(*=), Modulo Assignment(%=)"
   ]
  },
  {
   "cell_type": "code",
   "execution_count": 34,
   "id": "92b2edb5-1c66-4161-bb88-0bcac20690eb",
   "metadata": {},
   "outputs": [
    {
     "name": "stdout",
     "output_type": "stream",
     "text": [
      "99.99\n",
      "9647\n"
     ]
    }
   ],
   "source": [
    "x = 99.99 \n",
    "print(x)\n",
    "\n",
    "y = 9647\n",
    "print(y)"
   ]
  },
  {
   "cell_type": "code",
   "execution_count": 28,
   "id": "80470a48-4a14-47f6-b38a-c9c4c80b6a46",
   "metadata": {},
   "outputs": [
    {
     "name": "stdout",
     "output_type": "stream",
     "text": [
      "194\n",
      "288\n"
     ]
    }
   ],
   "source": [
    "a1 = 100  #add asm\n",
    "b1 = 94\n",
    "\n",
    "a1 += b1\n",
    "print(a1)\n",
    "\n",
    "b1 += a1\n",
    "print(b1)"
   ]
  },
  {
   "cell_type": "code",
   "execution_count": 27,
   "id": "f6bdb4d1-b131-453a-bafa-40bc4460a3db",
   "metadata": {},
   "outputs": [
    {
     "name": "stdout",
     "output_type": "stream",
     "text": [
      "15\n",
      "43\n"
     ]
    }
   ],
   "source": [
    "a2 = 58  #sub asm\n",
    "b2 = 73\n",
    "\n",
    "b2 -= a2\n",
    "print(b2)\n",
    "\n",
    "a2 -= b2\n",
    "print(a2)"
   ]
  },
  {
   "cell_type": "code",
   "execution_count": 31,
   "id": "990a2f01-6a9a-49c2-9435-7392488ad466",
   "metadata": {},
   "outputs": [
    {
     "name": "stdout",
     "output_type": "stream",
     "text": [
      "0.637887323943662\n",
      "111.30492382424376\n"
     ]
    }
   ],
   "source": [
    "a3 = 45.29 #div asm\n",
    "b3 = 71\n",
    "\n",
    "a3 /= b3\n",
    "print(a3)\n",
    "\n",
    "b3 /= a3\n",
    "print(b3)"
   ]
  },
  {
   "cell_type": "code",
   "execution_count": 33,
   "id": "7971e0b0-8947-41bf-892d-284b5d05ad3e",
   "metadata": {},
   "outputs": [
    {
     "name": "stdout",
     "output_type": "stream",
     "text": [
      "757.8720000000001\n",
      "52482.636000000006\n"
     ]
    }
   ],
   "source": [
    "a4 = 10.944  #mul asm\n",
    "b4 = 69.25\n",
    "\n",
    "a4 *= b4\n",
    "print(a4)\n",
    "\n",
    "b4 *= a4\n",
    "print(b4)"
   ]
  },
  {
   "cell_type": "code",
   "execution_count": 36,
   "id": "530412d0-f8ff-4304-b127-cd5021013550",
   "metadata": {},
   "outputs": [
    {
     "name": "stdout",
     "output_type": "stream",
     "text": [
      "12\n",
      "7\n"
     ]
    }
   ],
   "source": [
    "a5 = 98756  #modulo asm\n",
    "b5 = 12343\n",
    "\n",
    "a5 %= b5\n",
    "print(a5)\n",
    "\n",
    "b5 %= a5\n",
    "print(b5)"
   ]
  },
  {
   "cell_type": "markdown",
   "id": "d2ff5b00-8cf2-4cf5-99cf-388d602ad856",
   "metadata": {},
   "source": [
    "## Comparision Operator"
   ]
  },
  {
   "cell_type": "markdown",
   "id": "1950f976-0f22-47a7-98b1-0518f341f64b",
   "metadata": {},
   "source": [
    "Equal to(==), Less than(<), Greater than(>), Less than equal to(<=), Greater than equal to(>=), Not equal(!=) "
   ]
  },
  {
   "cell_type": "code",
   "execution_count": 42,
   "id": "b899159c-404e-4b0c-bad1-8202f66ba090",
   "metadata": {},
   "outputs": [
    {
     "name": "stdout",
     "output_type": "stream",
     "text": [
      "False\n",
      "False\n",
      "True\n",
      "False\n",
      "True\n",
      "True\n"
     ]
    }
   ],
   "source": [
    "m = 8490\n",
    "n = 7315\n",
    "\n",
    "print(m == n)\n",
    "print(m < n)\n",
    "print(m > n)\n",
    "print(m <= n)\n",
    "print(m >= n)\n",
    "print(m != n)"
   ]
  },
  {
   "cell_type": "code",
   "execution_count": null,
   "id": "30cae3d1-a977-470d-9182-cdfdc4478274",
   "metadata": {},
   "outputs": [],
   "source": []
  }
 ],
 "metadata": {
  "kernelspec": {
   "display_name": "Python 3 (ipykernel)",
   "language": "python",
   "name": "python3"
  },
  "language_info": {
   "codemirror_mode": {
    "name": "ipython",
    "version": 3
   },
   "file_extension": ".py",
   "mimetype": "text/x-python",
   "name": "python",
   "nbconvert_exporter": "python",
   "pygments_lexer": "ipython3",
   "version": "3.11.7"
  }
 },
 "nbformat": 4,
 "nbformat_minor": 5
}
